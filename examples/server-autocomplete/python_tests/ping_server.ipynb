{
 "cells": [
  {
   "cell_type": "code",
   "execution_count": 1,
   "metadata": {},
   "outputs": [
    {
     "name": "stdout",
     "output_type": "stream",
     "text": [
      "<|user|>\n",
      "In the mind upload realm, there was a place known simply as TheBar.com, Sam a regular meets\n"
     ]
    }
   ],
   "source": [
    "# read sample.txt\n",
    "\n",
    "with open('sample.txt', 'r') as f:\n",
    "    data_txt = f.read()\n",
    "\n",
    "print(data_txt[:100])"
   ]
  },
  {
   "cell_type": "code",
   "execution_count": 4,
   "metadata": {},
   "outputs": [],
   "source": [
    "data = {\"prompt\": data_txt, \"n_predict\": 128}"
   ]
  },
  {
   "cell_type": "code",
   "execution_count": 5,
   "metadata": {},
   "outputs": [
    {
     "name": "stdout",
     "output_type": "stream",
     "text": [
      "{'content': \"\\nSam and Zaara discuss the mysterious entity, a former slave from an interstellar planet, who has been reincarnated as an omniscient entity after living through a series of lives. They also mention the entity's connection with Sam's friend, Clyde, who is known for his knowledge about TheBar.com and its various patrons.\", 'generation_settings': {'frequency_penalty': 0.0, 'grammar': '', 'ignore_eos': False, 'logit_bias': [], 'min_p': 0.05000000074505806, 'mirostat': 0, 'mirostat_eta': 0.10000000149011612, 'mirostat_tau': 5.0, 'model': '.\\\\mist-7b-sft-gutenberg-50k.gguf', 'n_ctx': 4096, 'n_keep': 0, 'n_predict': 128, 'n_probs': 0, 'penalize_nl': True, 'penalty_prompt_tokens': [], 'presence_penalty': 0.0, 'repeat_last_n': 64, 'repeat_penalty': 1.100000023841858, 'seed': 4294967295, 'stop': [], 'stream': False, 'temperature': 0.800000011920929, 'tfs_z': 1.0, 'top_k': 40, 'top_p': 0.949999988079071, 'typical_p': 1.0, 'use_penalty_prompt_tokens': False}, 'model': '.\\\\mist-7b-sft-gutenberg-50k.gguf', 'prompt': '<|user|>\\nIn the mind upload realm, there was a place known simply as TheBar.com, Sam a regular meets Zara a mysterious newcomer.v</s> \\n<|assistant|> \\nIn the limitless expanse of the upload, there was a place known simply as TheBar.com. It wasn\\'t a grand name, but then, grandiosity was overrated in a realm where everything was possible. Here, the very fabric of reality was as malleable as clay, and the clientele as varied as the stars in the cosmos.\\n\\nTheBar.com was a curious amalgamation of the ordinary and the extraordinary. Its architecture was an ever-shifting tapestry of digital artistry, with walls that pulsed gently to the rhythm of a soundtrack customized for each person. The ceiling, a canvas of digital stars, occasionally brightened with the flash of a simulated supernova, prompting cheers from the more inebriated guests. Neon lights flickered in sync with an unseen cosmic beat, casting vibrant hues over the eclectic patrons.\\n\\nIn this digital haven, intoxication was a customizable affair. Patrons chose their preferred level of buzz or high with the precision of a barista crafting the perfect espresso. All the euphoria without any bothersome consequences, like hangovers or, heaven forbid, moral quandaries. A holographic bartender, ever-efficient, mixed drinks that glowed with ethereal light, the liquids swirling in patterns that defied gravity.\\n\\nAt the bar, there was a regular who everyone simply called Sam. It might not have been her real name, but in TheBar.com, reality was a flexible concept. Sam, with her nondescript appearance and a penchant for plain, unremarkable clothing, was something of an enigma. Her eyes, a plain shade of brown, watched the crowd with a mix of detached amusement and a hidden depth of thought. She seemed to find a quiet joy in observing the digital dance of entities around her.\\n\\nSam fancied herself a bit of an observer, a digital anthropologist, if you will. To her, TheBar.com was more than a mere virtual watering hole; it was a microcosm of the uploaded world, a smorgasbord of digital humanity in all its varied forms.\\n\\nAround her, conversations defied the limitations of physics and biology. A group that resembled figures from an ancient myth argued passionately with a cluster of entities who communicated in bursts of pure light. Their topic of debate? The ethical implications of creating virtual black holes. In a secluded booth, a pair of patrons, shifting through various forms with each passing moment, were engrossed in a dance that was as much about changing identities as it was about rhythm and movement. Sam had long stopped trying to categorize such spectacles; instead, she soaked in the raw essence of the upload\\'s limitless potential.\\n\\nAnd somewhere, woven into the very code that sustained TheBar.com, the superintelligences that powered the upload observed quietly. To them, this was just another node in the vast network of realities they oversaw, a pixel in the grand canvas of the digital universe. But to Sam, and to everyone else who found refuge in TheBar.com, it was a slice of infinity, a place where the only rule was that there were no rules.\\n\\nAt precisely 42123:37692:2333:1233 server time, a rather arbitrary measure in a place like TheBar.com, the entrance did its usual ripple-and-flicker dance to reveal a new arrival. She moved with a quiet assurance, her ashen hair with streaks of pink ombre flowing softly around her shoulders. The ambient light from the bar\\'s many holographic displays cast a kaleidoscope of colors over her, making her seem like she was walking through a living, breathing rainbow.\\n\\nSam, who had been idly observing a heated debate between a sentient nebula and a holographic historian over the ethics of time travel in literature, couldn\\'t help but notice the newcomer. It wasn’t just her hair or the subtle aura of shyness that surrounded her; it was something else, an intangible sense of history that clung to her like an invisible cloak.\\n\\n\"New face?\" Sam mused aloud, not really expecting an answer.\\n\\nTheBar.com\\'s AI, ever the virtual eavesdropper, chimed in, \"Ah, Sam, she\\'s anything but new. Zara\\'s been a regular since... well, since before regular was a thing here.\"\\n\\nSam\\'s eyes followed Zara as she navigated through the crowd with a grace that seemed out of step with the present. \"Really? I\\'ve been here a few hundred years, and I\\'ve never seen her.\" She watched as Zara walked to the other end of the bar, a quieter part where the digital lights created an almost ethereal ambiance.\\n\\n\"She\\'s a bit of an enigma,\" the AI replied, its voice tinged with a digital inflection that hinted at a smile. \"Drops by every few lifetimes or so. Orders the same drink every time – a classic Mojito, recipe circa Earth, 21st century. Speaking of which she just did.\"\\n\\nAs she waited for her drink, Sam took the opportunity to casually slide into the seat next to her. The bar stools were a comfortable array of pixels, their forms changing subtly to fit the sitter\\'s preference. \"First time I\\'ve seen you here,\" she ventured, trying to sound casual. \"I\\'m Sam, resident people-watcher and unofficial chronicler of TheBar.com\\'s more interesting tales.\"\\n\\nZara glanced at her, her eyes briefly betraying a flicker of amusement before returning to her characteristic shyness. \"Zara,\" she replied simply. \"I usually come here at ... different times.\"\\n\\nSam\\'s eyes scanned the digital readout of her beer, a mildly fascinating distraction, as Zara contemplated her drink. \"Different times, then? That\\'s a vague enough answer to pique anyone\\'s curiosity,\" Sam remarked, her tone light, with a hint of a playful nudge.\\n\\nZara, holding her classic Mojito, gave a small smile. \"Vague, yes, but it keeps life interesting,\" she said, her gaze drifting momentarily over the shifting scenery of TheBar.com. \"This place doesn\\'t change much, does it?\"\\n\\n\"It has its constants and surprises,\" Sam replied, shifting her gaze back to Zara. The lights of the bar reflected in her eyes, creating a mesmerizing effect. \"Like a mojito aficionado who seems to have a story worth hearing.\" </s>\\n<|user|>', 'slot_id': 0, 'stop': True, 'stopped_eos': True, 'stopped_limit': False, 'stopped_word': False, 'stopping_word': '', 'timings': {'predicted_ms': 28707.728, 'predicted_n': 78, 'predicted_per_second': 2.7170384225460125, 'predicted_per_token_ms': 368.04779487179485, 'prompt_ms': 169750.033, 'prompt_n': 1567, 'prompt_per_second': 9.23122059127965, 'prompt_per_token_ms': 108.32803637523931}, 'tokens_cached': 1644, 'tokens_evaluated': 1567, 'tokens_predicted': 78, 'truncated': False}\n"
     ]
    }
   ],
   "source": [
    "# example in curl\n",
    "\n",
    "\"\"\"\n",
    "curl --request POST \\\n",
    "    --url http://127.0.0.1:8080/completion \\\n",
    "    --header \"Content-Type: application/json\" \\\n",
    "    --data '{\"prompt\": \"Building a website can be done in 10 simple steps:\",\"n_predict\": 128}'\n",
    "\"\"\"\n",
    "\n",
    "# equivalent in python\n",
    "\n",
    "import requests\n",
    "import json\n",
    "\n",
    "url = \"http://127.0.0.1:8080/completion\"\n",
    "headers = {\"Content-Type\": \"application/json\"}\n",
    "data = json.dumps(data)\n",
    "\n",
    "response = requests.post(url, headers=headers, data=data)\n",
    "print(response.json())"
   ]
  },
  {
   "cell_type": "code",
   "execution_count": null,
   "metadata": {},
   "outputs": [],
   "source": []
  }
 ],
 "metadata": {
  "kernelspec": {
   "display_name": "openai",
   "language": "python",
   "name": "python3"
  },
  "language_info": {
   "codemirror_mode": {
    "name": "ipython",
    "version": 3
   },
   "file_extension": ".py",
   "mimetype": "text/x-python",
   "name": "python",
   "nbconvert_exporter": "python",
   "pygments_lexer": "ipython3",
   "version": "3.10.13"
  }
 },
 "nbformat": 4,
 "nbformat_minor": 2
}
