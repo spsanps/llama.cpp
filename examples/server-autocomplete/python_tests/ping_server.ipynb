{
 "cells": [
  {
   "cell_type": "code",
   "execution_count": 1,
   "metadata": {},
   "outputs": [
    {
     "name": "stdout",
     "output_type": "stream",
     "text": [
      "<|user|>\n",
      "In the mind upload realm, there was a place known simply as TheBar.com, Sam a regular meets\n"
     ]
    }
   ],
   "source": [
    "# read sample.txt\n",
    "\n",
    "with open('sample.txt', 'r') as f:\n",
    "    data_txt = f.read()\n",
    "\n",
    "print(data_txt[:100])"
   ]
  },
  {
   "cell_type": "code",
   "execution_count": 51,
   "metadata": {},
   "outputs": [],
   "source": [
    "data = {\"prompt\": \"When are you? Where are you? What are you?\\n\\nThese\"}"
   ]
  },
  {
   "cell_type": "code",
   "execution_count": 52,
   "metadata": {},
   "outputs": [
    {
     "name": "stdout",
     "output_type": "stream",
     "text": [
      "{'n_decoded': 0, 'n_suggested': 32, 'suggested': ' questions, and a multitude more, were on the tip of his tongue as he heard the voice speaking in the room behind him, but he had no reply'}\n"
     ]
    }
   ],
   "source": [
    "# example in curl\n",
    "\n",
    "\"\"\"\n",
    "curl --request POST \\\n",
    "    --url http://127.0.0.1:8080/completion \\\n",
    "    --header \"Content-Type: application/json\" \\\n",
    "    --data '{\"prompt\": \"Building a website can be done in 10 simple steps:\",\"n_predict\": 128}'\n",
    "\"\"\"\n",
    "\n",
    "# equivalent in python\n",
    "\n",
    "import requests\n",
    "import json\n",
    "\n",
    "url = \"http://127.0.0.1:8080/completion\"\n",
    "headers = {\"Content-Type\": \"application/json\"}\n",
    "data = json.dumps(data)\n",
    "\n",
    "response = requests.post(url, headers=headers, data=data)\n",
    "print(response.json())"
   ]
  },
  {
   "cell_type": "code",
   "execution_count": null,
   "metadata": {},
   "outputs": [],
   "source": []
  },
  {
   "cell_type": "code",
   "execution_count": null,
   "metadata": {},
   "outputs": [],
   "source": []
  }
 ],
 "metadata": {
  "kernelspec": {
   "display_name": "openai",
   "language": "python",
   "name": "python3"
  },
  "language_info": {
   "codemirror_mode": {
    "name": "ipython",
    "version": 3
   },
   "file_extension": ".py",
   "mimetype": "text/x-python",
   "name": "python",
   "nbconvert_exporter": "python",
   "pygments_lexer": "ipython3",
   "version": "3.10.13"
  }
 },
 "nbformat": 4,
 "nbformat_minor": 2
}
